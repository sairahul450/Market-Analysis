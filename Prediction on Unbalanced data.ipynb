{
 "cells": [
  {
   "cell_type": "markdown",
   "id": "d61ca23c",
   "metadata": {},
   "source": [
    "Question 3\n",
    "\n",
    "Does downsampling in unbalanced data reduces the prediction accuracy while applying machine learning algorithms?"
   ]
  },
  {
   "cell_type": "code",
   "execution_count": 3,
   "id": "yellow-mistress",
   "metadata": {},
   "outputs": [
    {
     "data": {
      "text/html": [
       "<div>\n",
       "<style scoped>\n",
       "    .dataframe tbody tr th:only-of-type {\n",
       "        vertical-align: middle;\n",
       "    }\n",
       "\n",
       "    .dataframe tbody tr th {\n",
       "        vertical-align: top;\n",
       "    }\n",
       "\n",
       "    .dataframe thead th {\n",
       "        text-align: right;\n",
       "    }\n",
       "</style>\n",
       "<table border=\"1\" class=\"dataframe\">\n",
       "  <thead>\n",
       "    <tr style=\"text-align: right;\">\n",
       "      <th></th>\n",
       "      <th>Education</th>\n",
       "      <th>Marital_Status</th>\n",
       "      <th>Income</th>\n",
       "      <th>Kidhome</th>\n",
       "      <th>Teenhome</th>\n",
       "      <th>Recency</th>\n",
       "      <th>MntWines</th>\n",
       "      <th>MntFruits</th>\n",
       "      <th>MntMeatProducts</th>\n",
       "      <th>MntFishProducts</th>\n",
       "      <th>...</th>\n",
       "      <th>NumWebVisitsMonth</th>\n",
       "      <th>AcceptedCmp3</th>\n",
       "      <th>AcceptedCmp4</th>\n",
       "      <th>AcceptedCmp5</th>\n",
       "      <th>AcceptedCmp1</th>\n",
       "      <th>AcceptedCmp2</th>\n",
       "      <th>Response</th>\n",
       "      <th>Complain</th>\n",
       "      <th>Country</th>\n",
       "      <th>Age</th>\n",
       "    </tr>\n",
       "  </thead>\n",
       "  <tbody>\n",
       "    <tr>\n",
       "      <th>0</th>\n",
       "      <td>2</td>\n",
       "      <td>2</td>\n",
       "      <td>84835.0</td>\n",
       "      <td>0</td>\n",
       "      <td>0</td>\n",
       "      <td>0</td>\n",
       "      <td>189</td>\n",
       "      <td>104</td>\n",
       "      <td>379</td>\n",
       "      <td>111</td>\n",
       "      <td>...</td>\n",
       "      <td>1</td>\n",
       "      <td>0</td>\n",
       "      <td>0</td>\n",
       "      <td>0</td>\n",
       "      <td>0</td>\n",
       "      <td>0</td>\n",
       "      <td>1</td>\n",
       "      <td>0</td>\n",
       "      <td>6</td>\n",
       "      <td>51</td>\n",
       "    </tr>\n",
       "    <tr>\n",
       "      <th>1</th>\n",
       "      <td>2</td>\n",
       "      <td>4</td>\n",
       "      <td>57091.0</td>\n",
       "      <td>0</td>\n",
       "      <td>0</td>\n",
       "      <td>0</td>\n",
       "      <td>464</td>\n",
       "      <td>5</td>\n",
       "      <td>64</td>\n",
       "      <td>7</td>\n",
       "      <td>...</td>\n",
       "      <td>5</td>\n",
       "      <td>0</td>\n",
       "      <td>0</td>\n",
       "      <td>0</td>\n",
       "      <td>0</td>\n",
       "      <td>1</td>\n",
       "      <td>1</td>\n",
       "      <td>0</td>\n",
       "      <td>1</td>\n",
       "      <td>60</td>\n",
       "    </tr>\n",
       "    <tr>\n",
       "      <th>2</th>\n",
       "      <td>2</td>\n",
       "      <td>3</td>\n",
       "      <td>67267.0</td>\n",
       "      <td>0</td>\n",
       "      <td>1</td>\n",
       "      <td>0</td>\n",
       "      <td>134</td>\n",
       "      <td>11</td>\n",
       "      <td>59</td>\n",
       "      <td>15</td>\n",
       "      <td>...</td>\n",
       "      <td>2</td>\n",
       "      <td>0</td>\n",
       "      <td>0</td>\n",
       "      <td>0</td>\n",
       "      <td>0</td>\n",
       "      <td>0</td>\n",
       "      <td>0</td>\n",
       "      <td>0</td>\n",
       "      <td>7</td>\n",
       "      <td>63</td>\n",
       "    </tr>\n",
       "    <tr>\n",
       "      <th>3</th>\n",
       "      <td>2</td>\n",
       "      <td>5</td>\n",
       "      <td>32474.0</td>\n",
       "      <td>1</td>\n",
       "      <td>1</td>\n",
       "      <td>0</td>\n",
       "      <td>10</td>\n",
       "      <td>0</td>\n",
       "      <td>1</td>\n",
       "      <td>0</td>\n",
       "      <td>...</td>\n",
       "      <td>7</td>\n",
       "      <td>0</td>\n",
       "      <td>0</td>\n",
       "      <td>0</td>\n",
       "      <td>0</td>\n",
       "      <td>0</td>\n",
       "      <td>0</td>\n",
       "      <td>0</td>\n",
       "      <td>0</td>\n",
       "      <td>54</td>\n",
       "    </tr>\n",
       "    <tr>\n",
       "      <th>4</th>\n",
       "      <td>2</td>\n",
       "      <td>4</td>\n",
       "      <td>21474.0</td>\n",
       "      <td>1</td>\n",
       "      <td>0</td>\n",
       "      <td>0</td>\n",
       "      <td>6</td>\n",
       "      <td>16</td>\n",
       "      <td>24</td>\n",
       "      <td>11</td>\n",
       "      <td>...</td>\n",
       "      <td>7</td>\n",
       "      <td>1</td>\n",
       "      <td>0</td>\n",
       "      <td>0</td>\n",
       "      <td>0</td>\n",
       "      <td>0</td>\n",
       "      <td>1</td>\n",
       "      <td>0</td>\n",
       "      <td>6</td>\n",
       "      <td>32</td>\n",
       "    </tr>\n",
       "  </tbody>\n",
       "</table>\n",
       "<p>5 rows × 26 columns</p>\n",
       "</div>"
      ],
      "text/plain": [
       "   Education  Marital_Status   Income  Kidhome  Teenhome  Recency  MntWines  \\\n",
       "0          2               2  84835.0        0         0        0       189   \n",
       "1          2               4  57091.0        0         0        0       464   \n",
       "2          2               3  67267.0        0         1        0       134   \n",
       "3          2               5  32474.0        1         1        0        10   \n",
       "4          2               4  21474.0        1         0        0         6   \n",
       "\n",
       "   MntFruits  MntMeatProducts  MntFishProducts  ...  NumWebVisitsMonth  \\\n",
       "0        104              379              111  ...                  1   \n",
       "1          5               64                7  ...                  5   \n",
       "2         11               59               15  ...                  2   \n",
       "3          0                1                0  ...                  7   \n",
       "4         16               24               11  ...                  7   \n",
       "\n",
       "   AcceptedCmp3  AcceptedCmp4  AcceptedCmp5  AcceptedCmp1  AcceptedCmp2  \\\n",
       "0             0             0             0             0             0   \n",
       "1             0             0             0             0             1   \n",
       "2             0             0             0             0             0   \n",
       "3             0             0             0             0             0   \n",
       "4             1             0             0             0             0   \n",
       "\n",
       "   Response  Complain  Country  Age  \n",
       "0         1         0        6   51  \n",
       "1         1         0        1   60  \n",
       "2         0         0        7   63  \n",
       "3         0         0        0   54  \n",
       "4         1         0        6   32  \n",
       "\n",
       "[5 rows x 26 columns]"
      ]
     },
     "execution_count": 3,
     "metadata": {},
     "output_type": "execute_result"
    }
   ],
   "source": [
    "import pandas as pd\n",
    "import numpy as np\n",
    "df1 = pd.read_csv(\"Dataset/preprocessed_dataset.csv\")\n",
    "df1.head(5)"
   ]
  },
  {
   "cell_type": "code",
   "execution_count": 4,
   "id": "social-spine",
   "metadata": {},
   "outputs": [
    {
     "data": {
      "text/plain": [
       "<AxesSubplot:xlabel='Response', ylabel='count'>"
      ]
     },
     "execution_count": 4,
     "metadata": {},
     "output_type": "execute_result"
    },
    {
     "data": {
      "image/png": "[encoded data removed]",
      "text/plain": [
       "<Figure size 432x288 with 1 Axes>"
      ]
     },
     "metadata": {},
     "output_type": "display_data"
    }
   ],
   "source": [
    "import seaborn as sns\n",
    "import matplotlib.pyplot as plt\n",
    "sns.set_theme(style=\"ticks\", color_codes=True)\n",
    "sns.countplot(x='Response', data=df1)"
   ]
  },
  {
   "cell_type": "code",
   "execution_count": 11,
   "id": "polish-centre",
   "metadata": {},
   "outputs": [
    {
     "name": "stdout",
     "output_type": "stream",
     "text": [
      "Counter({0: 1906, 1: 334})\n"
     ]
    }
   ],
   "source": [
    "from collections import Counter\n",
    "print(Counter(df1['Response']))"
   ]
  },
  {
   "cell_type": "markdown",
   "id": "1df846ed",
   "metadata": {},
   "source": [
    "It is observed that the data is unbalanced."
   ]
  },
  {
   "cell_type": "markdown",
   "id": "c675a69e",
   "metadata": {},
   "source": [
    "Implementaiton of Naive Bayes Algorithm with Unbalanced Dataset"
   ]
  },
  {
   "cell_type": "code",
   "execution_count": 14,
   "id": "crude-programming",
   "metadata": {},
   "outputs": [
    {
     "name": "stdout",
     "output_type": "stream",
     "text": [
      "Confusion Matrix \n",
      " [[316  66]\n",
      " [ 35  31]] \n",
      "\n"
     ]
    },
    {
     "data": {
      "image/png": "[encoded data removed]",
      "text/plain": [
       "<Figure size 504x360 with 2 Axes>"
      ]
     },
     "metadata": {},
     "output_type": "display_data"
    },
    {
     "name": "stdout",
     "output_type": "stream",
     "text": [
      "Classification Report \n",
      "               precision    recall  f1-score   support\n",
      "\n",
      "           0       0.90      0.83      0.86       382\n",
      "           1       0.32      0.47      0.38        66\n",
      "\n",
      "    accuracy                           0.77       448\n",
      "   macro avg       0.61      0.65      0.62       448\n",
      "weighted avg       0.81      0.77      0.79       448\n",
      " \n",
      "\n"
     ]
    }
   ],
   "source": [
    "import pandas as pd\n",
    "from sklearn.naive_bayes import GaussianNB\n",
    "from sklearn.model_selection import train_test_split\n",
    "from sklearn.metrics import classification_report\n",
    "from sklearn.metrics import confusion_matrix\n",
    "\n",
    "X = df1.drop('Response',axis=1)\n",
    "y = df1.Response\n",
    "\n",
    "X_train, X_test, y_train, y_test = train_test_split(X, y, test_size=0.2, random_state=12)\n",
    "\n",
    "model = GaussianNB()\n",
    "model.fit(X_train,y_train)\n",
    "\n",
    "y_pred = model.predict(X_test)\n",
    "\n",
    "\n",
    "cf_data = confusion_matrix(y_test,y_pred)\n",
    "print(\"Confusion Matrix \\n\", cf_data, \"\\n\")\n",
    "\n",
    "df_cm = pd.DataFrame(cf_data)\n",
    "plt.figure(figsize=(7,5))\n",
    "sns.set(font_scale=0.9) # for label size\n",
    "sns.heatmap(df_cm, annot=True, annot_kws={\"size\": 12}, fmt='g') # font size\n",
    "\n",
    "plt.show()\n",
    "\n",
    "print(\"Classification Report \\n\", classification_report(y_test,y_pred), \"\\n\")\n"
   ]
  },
  {
   "cell_type": "markdown",
   "id": "2fbf83cc",
   "metadata": {},
   "source": [
    "Implementaiton of Decision Tree Algorithm with Unbalanced Dataset"
   ]
  },
  {
   "cell_type": "code",
   "execution_count": 15,
   "id": "cooked-cambridge",
   "metadata": {},
   "outputs": [
    {
     "name": "stdout",
     "output_type": "stream",
     "text": [
      "Confusion Matrix \n",
      " [[357  25]\n",
      " [ 36  30]] \n",
      "\n"
     ]
    },
    {
     "data": {
      "image/png": "[encoded data removed]",
      "text/plain": [
       "<Figure size 504x360 with 2 Axes>"
      ]
     },
     "metadata": {},
     "output_type": "display_data"
    },
    {
     "name": "stdout",
     "output_type": "stream",
     "text": [
      "Classification Report \n",
      "               precision    recall  f1-score   support\n",
      "\n",
      "           0       0.91      0.93      0.92       382\n",
      "           1       0.55      0.45      0.50        66\n",
      "\n",
      "    accuracy                           0.86       448\n",
      "   macro avg       0.73      0.69      0.71       448\n",
      "weighted avg       0.85      0.86      0.86       448\n",
      " \n",
      "\n"
     ]
    }
   ],
   "source": [
    "import pandas as pd\n",
    "from sklearn.tree import DecisionTreeClassifier\n",
    "from sklearn.model_selection import train_test_split\n",
    "from sklearn.metrics import classification_report\n",
    "from sklearn.metrics import confusion_matrix\n",
    "\n",
    "X = df1.drop('Response',axis=1)\n",
    "y = df1.Response\n",
    "\n",
    "X_train, X_test, y_train, y_test = train_test_split(X, y, test_size=0.2, random_state=12)\n",
    "\n",
    "model = DecisionTreeClassifier()\n",
    "model.fit(X_train,y_train)\n",
    "\n",
    "y_pred = model.predict(X_test)\n",
    "\n",
    "\n",
    "cf_data = confusion_matrix(y_test,y_pred)\n",
    "print(\"Confusion Matrix \\n\", cf_data, \"\\n\")\n",
    "\n",
    "df_cm = pd.DataFrame(cf_data)\n",
    "plt.figure(figsize=(7,5))\n",
    "sns.set(font_scale=0.9) # for label size\n",
    "sns.heatmap(df_cm, annot=True, annot_kws={\"size\": 12}, fmt='g') # font size\n",
    "\n",
    "plt.show()\n",
    "\n",
    "print(\"Classification Report \\n\", classification_report(y_test,y_pred), \"\\n\")\n"
   ]
  },
  {
   "cell_type": "markdown",
   "id": "8cdd87b8",
   "metadata": {},
   "source": [
    "Downsampling"
   ]
  },
  {
   "cell_type": "code",
   "execution_count": 20,
   "id": "opposite-medication",
   "metadata": {},
   "outputs": [
    {
     "name": "stdout",
     "output_type": "stream",
     "text": [
      "Data before under-sampling\n",
      "Counter({0: 1906, 1: 334})\n",
      "Data after under-sampling:\n",
      "Counter({0: 334, 1: 334})\n"
     ]
    }
   ],
   "source": [
    "from collections import Counter\n",
    "print('Data before under-sampling')\n",
    "print(Counter(df1['Response']))\n",
    "\n",
    "count_class_0, count_class_1 = df1.Response.value_counts()\n",
    "\n",
    "# Divide by class\n",
    "df_class_0 = df1[df1['Response'] == 0]\n",
    "df_class_1 = df1[df1['Response'] == 1]\n",
    "\n",
    "df_class_0_under = df_class_0.sample(count_class_1)\n",
    "df = pd.concat([df_class_0_under, df_class_1], axis=0)\n",
    "\n",
    "print('Data after under-sampling:')\n",
    "print(Counter(df['Response']))"
   ]
  },
  {
   "cell_type": "code",
   "execution_count": null,
   "id": "premier-foundation",
   "metadata": {},
   "outputs": [],
   "source": []
  },
  {
   "cell_type": "markdown",
   "id": "6b198573",
   "metadata": {},
   "source": [
    "Implementaiton of Naive Bayes Algorithm after downsampling"
   ]
  },
  {
   "cell_type": "code",
   "execution_count": 21,
   "id": "german-sacramento",
   "metadata": {},
   "outputs": [
    {
     "name": "stdout",
     "output_type": "stream",
     "text": [
      "Confusion Matrix \n",
      " [[49 10]\n",
      " [33 42]] \n",
      "\n"
     ]
    },
    {
     "data": {
      "image/png": "[encoded data removed]",
      "text/plain": [
       "<Figure size 504x360 with 2 Axes>"
      ]
     },
     "metadata": {},
     "output_type": "display_data"
    },
    {
     "name": "stdout",
     "output_type": "stream",
     "text": [
      "Classification Report \n",
      "               precision    recall  f1-score   support\n",
      "\n",
      "           0       0.60      0.83      0.70        59\n",
      "           1       0.81      0.56      0.66        75\n",
      "\n",
      "    accuracy                           0.68       134\n",
      "   macro avg       0.70      0.70      0.68       134\n",
      "weighted avg       0.72      0.68      0.68       134\n",
      " \n",
      "\n"
     ]
    }
   ],
   "source": [
    "import pandas as pd\n",
    "from sklearn.naive_bayes import GaussianNB\n",
    "from sklearn.model_selection import train_test_split\n",
    "from sklearn.metrics import classification_report\n",
    "from sklearn.metrics import confusion_matrix\n",
    "\n",
    "X = df.drop('Response',axis=1)\n",
    "y = df.Response\n",
    "\n",
    "X_train, X_test, y_train, y_test = train_test_split(X, y, test_size=0.2, random_state=12)\n",
    "\n",
    "model = GaussianNB()\n",
    "model.fit(X_train,y_train)\n",
    "\n",
    "y_pred = model.predict(X_test)\n",
    "\n",
    "\n",
    "cf_data = confusion_matrix(y_test,y_pred)\n",
    "print(\"Confusion Matrix \\n\", cf_data, \"\\n\")\n",
    "\n",
    "df_cm = pd.DataFrame(cf_data)\n",
    "plt.figure(figsize=(7,5))\n",
    "sns.set(font_scale=0.9) # for label size\n",
    "sns.heatmap(df_cm, annot=True, annot_kws={\"size\": 12}, fmt='g') # font size\n",
    "\n",
    "plt.show()\n",
    "\n",
    "print(\"Classification Report \\n\", classification_report(y_test,y_pred), \"\\n\")\n"
   ]
  },
  {
   "cell_type": "markdown",
   "id": "a1b3530a",
   "metadata": {},
   "source": [
    "Implementaiton of Decision Tree Algorithm after downsampling"
   ]
  },
  {
   "cell_type": "code",
   "execution_count": 22,
   "id": "annoying-spectacular",
   "metadata": {},
   "outputs": [
    {
     "name": "stdout",
     "output_type": "stream",
     "text": [
      "Confusion Matrix \n",
      " [[39 20]\n",
      " [20 55]] \n",
      "\n"
     ]
    },
    {
     "data": {
      "image/png": "[encoded data removed]",
      "text/plain": [
       "<Figure size 504x360 with 2 Axes>"
      ]
     },
     "metadata": {},
     "output_type": "display_data"
    },
    {
     "name": "stdout",
     "output_type": "stream",
     "text": [
      "Classification Report \n",
      "               precision    recall  f1-score   support\n",
      "\n",
      "           0       0.66      0.66      0.66        59\n",
      "           1       0.73      0.73      0.73        75\n",
      "\n",
      "    accuracy                           0.70       134\n",
      "   macro avg       0.70      0.70      0.70       134\n",
      "weighted avg       0.70      0.70      0.70       134\n",
      " \n",
      "\n"
     ]
    }
   ],
   "source": [
    "import pandas as pd\n",
    "from sklearn.tree import DecisionTreeClassifier\n",
    "from sklearn.model_selection import train_test_split\n",
    "from sklearn.metrics import classification_report\n",
    "from sklearn.metrics import confusion_matrix\n",
    "\n",
    "X = df.drop('Response',axis=1)\n",
    "y = df.Response\n",
    "\n",
    "X_train, X_test, y_train, y_test = train_test_split(X, y, test_size=0.2, random_state=12)\n",
    "\n",
    "model = DecisionTreeClassifier()\n",
    "model.fit(X_train,y_train)\n",
    "\n",
    "y_pred = model.predict(X_test)\n",
    "\n",
    "\n",
    "cf_data = confusion_matrix(y_test,y_pred)\n",
    "print(\"Confusion Matrix \\n\", cf_data, \"\\n\")\n",
    "\n",
    "df_cm = pd.DataFrame(cf_data)\n",
    "plt.figure(figsize=(7,5))\n",
    "sns.set(font_scale=0.9) # for label size\n",
    "sns.heatmap(df_cm, annot=True, annot_kws={\"size\": 12}, fmt='g') # font size\n",
    "\n",
    "plt.show()\n",
    "\n",
    "print(\"Classification Report \\n\", classification_report(y_test,y_pred), \"\\n\")\n"
   ]
  },
  {
   "cell_type": "markdown",
   "id": "c0e15529",
   "metadata": {},
   "source": [
    "From the result,downsampling in unbalanced data reduces the prediction accuracy while applying machine learning algorithms."
   ]
  },
  {
   "cell_type": "code",
   "execution_count": null,
   "id": "409ddb39",
   "metadata": {},
   "outputs": [],
   "source": []
  }
 ],
 "metadata": {
  "kernelspec": {
   "display_name": "Python 3 (ipykernel)",
   "language": "python",
   "name": "python3"
  },
  "language_info": {
   "codemirror_mode": {
    "name": "ipython",
    "version": 3
   },
   "file_extension": ".py",
   "mimetype": "text/x-python",
   "name": "python",
   "nbconvert_exporter": "python",
   "pygments_lexer": "ipython3",
   "version": "3.9.7"
  }
 },
 "nbformat": 4,
 "nbformat_minor": 5
}
